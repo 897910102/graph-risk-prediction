{
 "cells": [
  {
   "cell_type": "code",
   "execution_count": 1,
   "id": "4ca70392-b680-4084-b793-e57667b149d6",
   "metadata": {},
   "outputs": [],
   "source": [
    "import argparse\n",
    "from pydoc import describe\n",
    "from tkinter import W\n",
    "# from torch_geometric.data import HeteroData\n",
    "import torch\n",
    "import numpy as np\n",
    "from tqdm import tqdm\n",
    "import os.path as osp\n",
    "import pickle as pkl\n",
    "import pandas as pd"
   ]
  },
  {
   "cell_type": "code",
   "execution_count": 2,
   "id": "244da5be-16c8-4956-a849-268e45e9e13a",
   "metadata": {},
   "outputs": [],
   "source": [
    "reader2 = pd.read_csv('/data1/competition/icdm/data/icdm2022_session2_edges.csv',\n",
    "               names=[\"source_id\", \"dest_id\", \"source_type\", \"dest_type\", \"edge_type\"])"
   ]
  },
  {
   "cell_type": "markdown",
   "id": "bf456657-0195-4468-8e32-7e9fd566b039",
   "metadata": {
    "tags": []
   },
   "source": [
    "#### preprocess"
   ]
  },
  {
   "cell_type": "code",
   "execution_count": 4,
   "id": "5ce4bda2-7d0b-437e-ba12-10df3845721f",
   "metadata": {},
   "outputs": [],
   "source": [
    "source_df = reader2[[\"source_id\",\"source_type\"]]\n",
    "dest_df = reader2[[\"dest_id\",\"dest_type\"]]"
   ]
  },
  {
   "cell_type": "code",
   "execution_count": 5,
   "id": "04f5b3a8-f502-4361-9021-24f386f360a2",
   "metadata": {},
   "outputs": [
    {
     "data": {
      "text/plain": [
       "(120691444, 120691444)"
      ]
     },
     "execution_count": 5,
     "metadata": {},
     "output_type": "execute_result"
    }
   ],
   "source": [
    "len(dest_df),len(source_df)"
   ]
  },
  {
   "cell_type": "code",
   "execution_count": 6,
   "id": "9d2a6592-216e-4355-8829-a3c7ad16dd7c",
   "metadata": {},
   "outputs": [
    {
     "name": "stderr",
     "output_type": "stream",
     "text": [
      "/tmp/ipykernel_30437/504002376.py:1: SettingWithCopyWarning: \n",
      "A value is trying to be set on a copy of a slice from a DataFrame\n",
      "\n",
      "See the caveats in the documentation: https://pandas.pydata.org/pandas-docs/stable/user_guide/indexing.html#returning-a-view-versus-a-copy\n",
      "  dest_df.drop_duplicates(subset=None, keep='first',inplace=True)\n"
     ]
    }
   ],
   "source": [
    "dest_df.drop_duplicates(subset=None, keep='first',inplace=True)"
   ]
  },
  {
   "cell_type": "code",
   "execution_count": 7,
   "id": "3d239826-4aec-48fe-a653-f3d9051ce2f7",
   "metadata": {},
   "outputs": [
    {
     "name": "stderr",
     "output_type": "stream",
     "text": [
      "/tmp/ipykernel_30437/740065992.py:1: SettingWithCopyWarning: \n",
      "A value is trying to be set on a copy of a slice from a DataFrame\n",
      "\n",
      "See the caveats in the documentation: https://pandas.pydata.org/pandas-docs/stable/user_guide/indexing.html#returning-a-view-versus-a-copy\n",
      "  source_df.drop_duplicates(subset=None, keep='first',inplace=True)\n"
     ]
    }
   ],
   "source": [
    "source_df.drop_duplicates(subset=None, keep='first',inplace=True)"
   ]
  },
  {
   "cell_type": "code",
   "execution_count": 8,
   "id": "127dd762-3c47-4f33-ab48-838024b3824b",
   "metadata": {},
   "outputs": [
    {
     "data": {
      "text/plain": [
       "(10284026, 10284026)"
      ]
     },
     "execution_count": 8,
     "metadata": {},
     "output_type": "execute_result"
    }
   ],
   "source": [
    "len(dest_df),len(source_df)"
   ]
  },
  {
   "cell_type": "code",
   "execution_count": 10,
   "id": "457b96ac-1475-4e31-b4e7-d45006ff50b5",
   "metadata": {},
   "outputs": [],
   "source": [
    "dest_df.columns = [\"id\",\"type\"]\n",
    "source_df.columns = [\"id\",\"type\"]"
   ]
  },
  {
   "cell_type": "code",
   "execution_count": 11,
   "id": "e1a36b81-caa6-4c28-a8e6-ecc11befce69",
   "metadata": {},
   "outputs": [],
   "source": [
    "temp = pd.concat([source_df,dest_df])"
   ]
  },
  {
   "cell_type": "code",
   "execution_count": 12,
   "id": "00f3cf29-f7e7-418b-ad32-17e6d698ee77",
   "metadata": {},
   "outputs": [
    {
     "data": {
      "text/plain": [
       "20568052"
      ]
     },
     "execution_count": 12,
     "metadata": {},
     "output_type": "execute_result"
    }
   ],
   "source": [
    "len(temp)"
   ]
  },
  {
   "cell_type": "code",
   "execution_count": 13,
   "id": "ee0c9902-6c99-48e2-8313-2fecebe6e578",
   "metadata": {},
   "outputs": [],
   "source": [
    "temp2 = temp.drop_duplicates(subset=None, keep='first',inplace=False)"
   ]
  },
  {
   "cell_type": "code",
   "execution_count": 14,
   "id": "8c159a99-ac71-4fba-8bac-7a6aaa996427",
   "metadata": {},
   "outputs": [
    {
     "data": {
      "text/plain": [
       "10284026"
      ]
     },
     "execution_count": 14,
     "metadata": {},
     "output_type": "execute_result"
    }
   ],
   "source": [
    "len(temp2)"
   ]
  },
  {
   "cell_type": "code",
   "execution_count": 15,
   "id": "8af65095-63f0-415c-a995-8fbb492be44b",
   "metadata": {},
   "outputs": [
    {
     "name": "stderr",
     "output_type": "stream",
     "text": [
      "/tmp/ipykernel_30437/1354019975.py:1: SettingWithCopyWarning: \n",
      "A value is trying to be set on a copy of a slice from a DataFrame.\n",
      "Try using .loc[row_indexer,col_indexer] = value instead\n",
      "\n",
      "See the caveats in the documentation: https://pandas.pydata.org/pandas-docs/stable/user_guide/indexing.html#returning-a-view-versus-a-copy\n",
      "  temp2[\"label\"] = temp2[\"type\"].apply(lambda x:1 if x==\"item\" else 0)\n"
     ]
    }
   ],
   "source": [
    "temp2[\"label\"] = temp2[\"type\"].apply(lambda x:1 if x==\"item\" else 0)"
   ]
  },
  {
   "cell_type": "code",
   "execution_count": 16,
   "id": "edc8f67d-3294-4c0b-a773-09848d83ae5d",
   "metadata": {},
   "outputs": [],
   "source": [
    "temp2 = temp2[[\"id\",\"type\",\"label\"]]"
   ]
  },
  {
   "cell_type": "code",
   "execution_count": 17,
   "id": "877d2278-53a9-427b-878e-c791e035cec8",
   "metadata": {},
   "outputs": [],
   "source": [
    "temp2.to_csv(\"/data1/competition/icdm/data/session2_label_type.csv\",index=0)"
   ]
  },
  {
   "cell_type": "markdown",
   "id": "d3d44cb4-9084-42b6-8b84-37179bae7a97",
   "metadata": {},
   "source": [
    "#### look up"
   ]
  },
  {
   "cell_type": "code",
   "execution_count": 6,
   "id": "3f0611db-4e00-414b-92ee-3ded58eb0d79",
   "metadata": {},
   "outputs": [
    {
     "data": {
      "text/plain": [
       "array(['A_1', 'G', 'A', 'B', 'G_1', 'F', 'H_1', 'D', 'C', 'D_1', 'B_1',\n",
       "       'F_1', 'H', 'C_1'], dtype=object)"
      ]
     },
     "execution_count": 6,
     "metadata": {},
     "output_type": "execute_result"
    }
   ],
   "source": [
    "reader2.edge_type.unique()"
   ]
  },
  {
   "cell_type": "code",
   "execution_count": 4,
   "id": "2119f562-84ab-4925-a280-522427a22e7d",
   "metadata": {},
   "outputs": [
    {
     "data": {
      "text/plain": [
       "120691444"
      ]
     },
     "execution_count": 4,
     "metadata": {},
     "output_type": "execute_result"
    }
   ],
   "source": [
    "len(reader2)"
   ]
  },
  {
   "cell_type": "code",
   "execution_count": null,
   "id": "29fce197-300d-4bdf-b13f-37f03f82effc",
   "metadata": {},
   "outputs": [],
   "source": [
    "reader2[reader2[\"source_id\"]==\"9227048\"]"
   ]
  },
  {
   "cell_type": "code",
   "execution_count": 1,
   "id": "2a75c3ad-fa15-49c3-9670-d808e38c501f",
   "metadata": {},
   "outputs": [],
   "source": [
    "import pandas as pd"
   ]
  },
  {
   "cell_type": "code",
   "execution_count": 2,
   "id": "bf1fe998-8327-4c41-9ba9-fb5420e77141",
   "metadata": {},
   "outputs": [],
   "source": [
    "a = pd.read_csv(\"/data1/competition/icdm/data/session2_label_type.csv\")"
   ]
  },
  {
   "cell_type": "code",
   "execution_count": 3,
   "id": "83cd86d8-546b-4f6f-a2fb-75f1da9b26eb",
   "metadata": {},
   "outputs": [
    {
     "data": {
      "text/html": [
       "<div>\n",
       "<style scoped>\n",
       "    .dataframe tbody tr th:only-of-type {\n",
       "        vertical-align: middle;\n",
       "    }\n",
       "\n",
       "    .dataframe tbody tr th {\n",
       "        vertical-align: top;\n",
       "    }\n",
       "\n",
       "    .dataframe thead th {\n",
       "        text-align: right;\n",
       "    }\n",
       "</style>\n",
       "<table border=\"1\" class=\"dataframe\">\n",
       "  <thead>\n",
       "    <tr style=\"text-align: right;\">\n",
       "      <th></th>\n",
       "      <th>id</th>\n",
       "      <th>type</th>\n",
       "      <th>label</th>\n",
       "    </tr>\n",
       "  </thead>\n",
       "  <tbody>\n",
       "    <tr>\n",
       "      <th>0</th>\n",
       "      <td>27</td>\n",
       "      <td>b</td>\n",
       "      <td>0</td>\n",
       "    </tr>\n",
       "    <tr>\n",
       "      <th>1</th>\n",
       "      <td>51</td>\n",
       "      <td>b</td>\n",
       "      <td>0</td>\n",
       "    </tr>\n",
       "    <tr>\n",
       "      <th>2</th>\n",
       "      <td>107</td>\n",
       "      <td>b</td>\n",
       "      <td>0</td>\n",
       "    </tr>\n",
       "    <tr>\n",
       "      <th>3</th>\n",
       "      <td>132</td>\n",
       "      <td>f</td>\n",
       "      <td>0</td>\n",
       "    </tr>\n",
       "    <tr>\n",
       "      <th>4</th>\n",
       "      <td>174</td>\n",
       "      <td>b</td>\n",
       "      <td>0</td>\n",
       "    </tr>\n",
       "    <tr>\n",
       "      <th>...</th>\n",
       "      <td>...</td>\n",
       "      <td>...</td>\n",
       "      <td>...</td>\n",
       "    </tr>\n",
       "    <tr>\n",
       "      <th>10284021</th>\n",
       "      <td>10216374</td>\n",
       "      <td>e</td>\n",
       "      <td>0</td>\n",
       "    </tr>\n",
       "    <tr>\n",
       "      <th>10284022</th>\n",
       "      <td>10228204</td>\n",
       "      <td>e</td>\n",
       "      <td>0</td>\n",
       "    </tr>\n",
       "    <tr>\n",
       "      <th>10284023</th>\n",
       "      <td>10235429</td>\n",
       "      <td>e</td>\n",
       "      <td>0</td>\n",
       "    </tr>\n",
       "    <tr>\n",
       "      <th>10284024</th>\n",
       "      <td>10238093</td>\n",
       "      <td>e</td>\n",
       "      <td>0</td>\n",
       "    </tr>\n",
       "    <tr>\n",
       "      <th>10284025</th>\n",
       "      <td>10250106</td>\n",
       "      <td>e</td>\n",
       "      <td>0</td>\n",
       "    </tr>\n",
       "  </tbody>\n",
       "</table>\n",
       "<p>10284026 rows × 3 columns</p>\n",
       "</div>"
      ],
      "text/plain": [
       "                id type  label\n",
       "0               27    b      0\n",
       "1               51    b      0\n",
       "2              107    b      0\n",
       "3              132    f      0\n",
       "4              174    b      0\n",
       "...            ...  ...    ...\n",
       "10284021  10216374    e      0\n",
       "10284022  10228204    e      0\n",
       "10284023  10235429    e      0\n",
       "10284024  10238093    e      0\n",
       "10284025  10250106    e      0\n",
       "\n",
       "[10284026 rows x 3 columns]"
      ]
     },
     "execution_count": 3,
     "metadata": {},
     "output_type": "execute_result"
    }
   ],
   "source": [
    "a"
   ]
  },
  {
   "cell_type": "code",
   "execution_count": 4,
   "id": "de45cab7-59a4-49f2-8424-7493ec27c08b",
   "metadata": {},
   "outputs": [],
   "source": [
    "a.to_csv(\"/data1/competition/icdm/data/session2_label_type.csv\",index=0,header=0)"
   ]
  },
  {
   "cell_type": "code",
   "execution_count": null,
   "id": "72756896-1bb4-4bd3-bf74-cbb6fa927600",
   "metadata": {},
   "outputs": [],
   "source": []
  }
 ],
 "metadata": {
  "kernelspec": {
   "display_name": "base",
   "language": "python",
   "name": "base"
  },
  "language_info": {
   "codemirror_mode": {
    "name": "ipython",
    "version": 3
   },
   "file_extension": ".py",
   "mimetype": "text/x-python",
   "name": "python",
   "nbconvert_exporter": "python",
   "pygments_lexer": "ipython3",
   "version": "3.9.7"
  }
 },
 "nbformat": 4,
 "nbformat_minor": 5
}
