{
 "cells": [
  {
   "cell_type": "code",
   "execution_count": 5,
   "id": "1ff10ac8-f78b-4c97-b295-3c9070954422",
   "metadata": {},
   "outputs": [],
   "source": [
    "import argparse\n",
    "from pydoc import describe\n",
    "from tkinter import W\n",
    "# from torch_geometric.data import HeteroData\n",
    "import torch\n",
    "import numpy as np\n",
    "from tqdm import tqdm\n",
    "import os.path as osp\n",
    "import pickle as pkl\n",
    "import pandas as pd"
   ]
  },
  {
   "cell_type": "code",
   "execution_count": 9,
   "id": "774a9268-67a6-419b-8202-43711efcd619",
   "metadata": {},
   "outputs": [],
   "source": [
    "reader = pd.read_csv('/data1/competition/icdm/data/icdm2022_session1_edges.csv',\n",
    "               names=[\"source_id\", \"dest_id\", \"source_type\", \"dest_type\", \"edge_type\"])"
   ]
  },
  {
   "cell_type": "code",
   "execution_count": 11,
   "id": "4fefe0a8-3342-4bdf-9e46-b1af60077e9f",
   "metadata": {},
   "outputs": [],
   "source": [
    "source_df = reader[[\"source_id\",\"source_type\"]]\n",
    "dest_df = reader[[\"dest_id\",\"dest_type\"]]"
   ]
  },
  {
   "cell_type": "code",
   "execution_count": 12,
   "id": "7111beb5-b941-4e39-b036-5fa3bae19159",
   "metadata": {},
   "outputs": [
    {
     "data": {
      "text/plain": [
       "(157814864, 157814864)"
      ]
     },
     "execution_count": 12,
     "metadata": {},
     "output_type": "execute_result"
    }
   ],
   "source": [
    "len(dest_df),len(source_df)"
   ]
  },
  {
   "cell_type": "code",
   "execution_count": 13,
   "id": "459d296b-17b0-4659-b65f-3eab527e7986",
   "metadata": {},
   "outputs": [
    {
     "name": "stderr",
     "output_type": "stream",
     "text": [
      "/tmp/ipykernel_29051/504002376.py:1: SettingWithCopyWarning: \n",
      "A value is trying to be set on a copy of a slice from a DataFrame\n",
      "\n",
      "See the caveats in the documentation: https://pandas.pydata.org/pandas-docs/stable/user_guide/indexing.html#returning-a-view-versus-a-copy\n",
      "  dest_df.drop_duplicates(subset=None, keep='first',inplace=True)\n"
     ]
    }
   ],
   "source": [
    "dest_df.drop_duplicates(subset=None, keep='first',inplace=True)"
   ]
  },
  {
   "cell_type": "code",
   "execution_count": 14,
   "id": "85c6a6ac-05a7-4500-956b-f248645fadbb",
   "metadata": {},
   "outputs": [
    {
     "name": "stderr",
     "output_type": "stream",
     "text": [
      "/tmp/ipykernel_29051/740065992.py:1: SettingWithCopyWarning: \n",
      "A value is trying to be set on a copy of a slice from a DataFrame\n",
      "\n",
      "See the caveats in the documentation: https://pandas.pydata.org/pandas-docs/stable/user_guide/indexing.html#returning-a-view-versus-a-copy\n",
      "  source_df.drop_duplicates(subset=None, keep='first',inplace=True)\n"
     ]
    }
   ],
   "source": [
    "source_df.drop_duplicates(subset=None, keep='first',inplace=True)"
   ]
  },
  {
   "cell_type": "code",
   "execution_count": 18,
   "id": "2cc07f9c-42dc-4938-9b08-970ad3d814df",
   "metadata": {},
   "outputs": [
    {
     "data": {
      "text/plain": [
       "(13806619, 13806619)"
      ]
     },
     "execution_count": 18,
     "metadata": {},
     "output_type": "execute_result"
    }
   ],
   "source": [
    "len(dest_df),len(source_df)"
   ]
  },
  {
   "cell_type": "code",
   "execution_count": 19,
   "id": "b87eb643-b7de-42c2-b9ea-64cd6a585b28",
   "metadata": {},
   "outputs": [],
   "source": [
    "dest_df.columns = [\"id\",\"type\"]\n",
    "source_df.columns = [\"id\",\"type\"]"
   ]
  },
  {
   "cell_type": "code",
   "execution_count": 20,
   "id": "5931354d-1238-4aee-b69e-d002e8d773f8",
   "metadata": {},
   "outputs": [
    {
     "data": {
      "text/plain": [
       "(13806619, 13806619)"
      ]
     },
     "execution_count": 20,
     "metadata": {},
     "output_type": "execute_result"
    }
   ],
   "source": [
    "len(dest_df),len(source_df)"
   ]
  },
  {
   "cell_type": "code",
   "execution_count": 21,
   "id": "1ba4a5b5-40c0-43bb-a458-4bb33480b343",
   "metadata": {},
   "outputs": [],
   "source": [
    "temp = pd.concat([source_df,dest_df])"
   ]
  },
  {
   "cell_type": "code",
   "execution_count": 22,
   "id": "07b7c57e-19c6-43f0-bb8d-b2fbc2e261dd",
   "metadata": {},
   "outputs": [],
   "source": [
    "temp2 = temp.drop_duplicates(subset=None, keep='first',inplace=False)"
   ]
  },
  {
   "cell_type": "code",
   "execution_count": 23,
   "id": "c016dcc1-73be-4105-b31f-5d2dfaa6bbbc",
   "metadata": {},
   "outputs": [
    {
     "data": {
      "text/plain": [
       "13806619"
      ]
     },
     "execution_count": 23,
     "metadata": {},
     "output_type": "execute_result"
    }
   ],
   "source": [
    "len(temp2)"
   ]
  },
  {
   "cell_type": "code",
   "execution_count": 24,
   "id": "faf4d821-bc7d-4938-9ffe-ebeac571888e",
   "metadata": {},
   "outputs": [
    {
     "name": "stderr",
     "output_type": "stream",
     "text": [
      "/tmp/ipykernel_29051/1354019975.py:1: SettingWithCopyWarning: \n",
      "A value is trying to be set on a copy of a slice from a DataFrame.\n",
      "Try using .loc[row_indexer,col_indexer] = value instead\n",
      "\n",
      "See the caveats in the documentation: https://pandas.pydata.org/pandas-docs/stable/user_guide/indexing.html#returning-a-view-versus-a-copy\n",
      "  temp2[\"label\"] = temp2[\"type\"].apply(lambda x:1 if x==\"item\" else 0)\n"
     ]
    }
   ],
   "source": [
    "temp2[\"label\"] = temp2[\"type\"].apply(lambda x:1 if x==\"item\" else 0)"
   ]
  },
  {
   "cell_type": "code",
   "execution_count": 26,
   "id": "dbc0fcdd-25cd-4f4b-9bfe-5c91ae576f54",
   "metadata": {},
   "outputs": [],
   "source": [
    "temp2 = temp2[[\"id\",\"type\",\"label\"]]"
   ]
  },
  {
   "cell_type": "code",
   "execution_count": 27,
   "id": "8d350350-92b0-445b-be10-0b79bda58f8e",
   "metadata": {},
   "outputs": [],
   "source": [
    "temp2.to_csv(\"/data1/competition/icdm/data/session1_label_type.csv\",index=0,header=0)"
   ]
  },
  {
   "cell_type": "code",
   "execution_count": 2,
   "id": "cf3df512-9ba1-4502-8212-e3c651c0e84f",
   "metadata": {},
   "outputs": [],
   "source": [
    "import pandas as pd"
   ]
  },
  {
   "cell_type": "code",
   "execution_count": 3,
   "id": "0868d3d4-643f-4a3e-bcd5-61f49b9eeee8",
   "metadata": {},
   "outputs": [],
   "source": [
    "a = pd.read_csv(\"/data1/competition/icdm/data/session1_label_type.csv\",header=None)"
   ]
  },
  {
   "cell_type": "code",
   "execution_count": 17,
   "id": "e618b78f-2848-4741-9434-14cb44186aa5",
   "metadata": {},
   "outputs": [],
   "source": [
    "a = a.drop(columns=[1])"
   ]
  },
  {
   "cell_type": "code",
   "execution_count": 4,
   "id": "3fa40722-da3a-47b8-b99e-572de833814e",
   "metadata": {},
   "outputs": [
    {
     "data": {
      "text/html": [
       "<div>\n",
       "<style scoped>\n",
       "    .dataframe tbody tr th:only-of-type {\n",
       "        vertical-align: middle;\n",
       "    }\n",
       "\n",
       "    .dataframe tbody tr th {\n",
       "        vertical-align: top;\n",
       "    }\n",
       "\n",
       "    .dataframe thead th {\n",
       "        text-align: right;\n",
       "    }\n",
       "</style>\n",
       "<table border=\"1\" class=\"dataframe\">\n",
       "  <thead>\n",
       "    <tr style=\"text-align: right;\">\n",
       "      <th></th>\n",
       "      <th>0</th>\n",
       "      <th>1</th>\n",
       "    </tr>\n",
       "  </thead>\n",
       "  <tbody>\n",
       "    <tr>\n",
       "      <th>0</th>\n",
       "      <td>23</td>\n",
       "      <td>0</td>\n",
       "    </tr>\n",
       "    <tr>\n",
       "      <th>1</th>\n",
       "      <td>125</td>\n",
       "      <td>0</td>\n",
       "    </tr>\n",
       "    <tr>\n",
       "      <th>2</th>\n",
       "      <td>417</td>\n",
       "      <td>0</td>\n",
       "    </tr>\n",
       "    <tr>\n",
       "      <th>3</th>\n",
       "      <td>869</td>\n",
       "      <td>0</td>\n",
       "    </tr>\n",
       "    <tr>\n",
       "      <th>4</th>\n",
       "      <td>1333</td>\n",
       "      <td>0</td>\n",
       "    </tr>\n",
       "    <tr>\n",
       "      <th>...</th>\n",
       "      <td>...</td>\n",
       "      <td>...</td>\n",
       "    </tr>\n",
       "    <tr>\n",
       "      <th>13806614</th>\n",
       "      <td>13701666</td>\n",
       "      <td>0</td>\n",
       "    </tr>\n",
       "    <tr>\n",
       "      <th>13806615</th>\n",
       "      <td>13717981</td>\n",
       "      <td>0</td>\n",
       "    </tr>\n",
       "    <tr>\n",
       "      <th>13806616</th>\n",
       "      <td>13738085</td>\n",
       "      <td>0</td>\n",
       "    </tr>\n",
       "    <tr>\n",
       "      <th>13806617</th>\n",
       "      <td>13763111</td>\n",
       "      <td>0</td>\n",
       "    </tr>\n",
       "    <tr>\n",
       "      <th>13806618</th>\n",
       "      <td>13772666</td>\n",
       "      <td>0</td>\n",
       "    </tr>\n",
       "  </tbody>\n",
       "</table>\n",
       "<p>13806619 rows × 2 columns</p>\n",
       "</div>"
      ],
      "text/plain": [
       "                 0  1\n",
       "0               23  0\n",
       "1              125  0\n",
       "2              417  0\n",
       "3              869  0\n",
       "4             1333  0\n",
       "...            ... ..\n",
       "13806614  13701666  0\n",
       "13806615  13717981  0\n",
       "13806616  13738085  0\n",
       "13806617  13763111  0\n",
       "13806618  13772666  0\n",
       "\n",
       "[13806619 rows x 2 columns]"
      ]
     },
     "execution_count": 4,
     "metadata": {},
     "output_type": "execute_result"
    }
   ],
   "source": [
    "a"
   ]
  },
  {
   "cell_type": "code",
   "execution_count": 19,
   "id": "c451c0b1-7fa9-41c0-9dcd-d5cb247f02f6",
   "metadata": {},
   "outputs": [],
   "source": [
    "a.to_csv(\"/data1/competition/icdm/data/session1_label_type.csv\",index=0,header=0)"
   ]
  },
  {
   "cell_type": "markdown",
   "id": "8061b089-320b-4618-b542-211353b7047f",
   "metadata": {},
   "source": [
    "#### temp"
   ]
  },
  {
   "cell_type": "code",
   "execution_count": 29,
   "id": "d9e8864f-1bc8-4587-b96c-a3fe656ce34e",
   "metadata": {},
   "outputs": [],
   "source": [
    "temp = pd.read_csv(\"/data1/competition/icdm/data/icdm2022_session1_edges.csv\",\n",
    "                  header =None)"
   ]
  },
  {
   "cell_type": "code",
   "execution_count": 30,
   "id": "74d9f7b5-a067-4bad-85e8-cb1e35fb588e",
   "metadata": {},
   "outputs": [
    {
     "data": {
      "text/html": [
       "<div>\n",
       "<style scoped>\n",
       "    .dataframe tbody tr th:only-of-type {\n",
       "        vertical-align: middle;\n",
       "    }\n",
       "\n",
       "    .dataframe tbody tr th {\n",
       "        vertical-align: top;\n",
       "    }\n",
       "\n",
       "    .dataframe thead th {\n",
       "        text-align: right;\n",
       "    }\n",
       "</style>\n",
       "<table border=\"1\" class=\"dataframe\">\n",
       "  <thead>\n",
       "    <tr style=\"text-align: right;\">\n",
       "      <th></th>\n",
       "      <th>0</th>\n",
       "      <th>1</th>\n",
       "      <th>2</th>\n",
       "      <th>3</th>\n",
       "      <th>4</th>\n",
       "    </tr>\n",
       "  </thead>\n",
       "  <tbody>\n",
       "    <tr>\n",
       "      <th>0</th>\n",
       "      <td>23</td>\n",
       "      <td>7261518</td>\n",
       "      <td>b</td>\n",
       "      <td>item</td>\n",
       "      <td>A_1</td>\n",
       "    </tr>\n",
       "    <tr>\n",
       "      <th>1</th>\n",
       "      <td>125</td>\n",
       "      <td>9878381</td>\n",
       "      <td>b</td>\n",
       "      <td>item</td>\n",
       "      <td>A_1</td>\n",
       "    </tr>\n",
       "    <tr>\n",
       "      <th>2</th>\n",
       "      <td>417</td>\n",
       "      <td>9794228</td>\n",
       "      <td>f</td>\n",
       "      <td>item</td>\n",
       "      <td>B</td>\n",
       "    </tr>\n",
       "    <tr>\n",
       "      <th>3</th>\n",
       "      <td>869</td>\n",
       "      <td>379246</td>\n",
       "      <td>a</td>\n",
       "      <td>f</td>\n",
       "      <td>G_1</td>\n",
       "    </tr>\n",
       "    <tr>\n",
       "      <th>4</th>\n",
       "      <td>1333</td>\n",
       "      <td>1183959</td>\n",
       "      <td>f</td>\n",
       "      <td>a</td>\n",
       "      <td>G</td>\n",
       "    </tr>\n",
       "  </tbody>\n",
       "</table>\n",
       "</div>"
      ],
      "text/plain": [
       "      0        1  2     3    4\n",
       "0    23  7261518  b  item  A_1\n",
       "1   125  9878381  b  item  A_1\n",
       "2   417  9794228  f  item    B\n",
       "3   869   379246  a     f  G_1\n",
       "4  1333  1183959  f     a    G"
      ]
     },
     "execution_count": 30,
     "metadata": {},
     "output_type": "execute_result"
    }
   ],
   "source": [
    "temp.head()"
   ]
  },
  {
   "cell_type": "code",
   "execution_count": 31,
   "id": "29f75b30-6a39-4abd-8f9c-ede289fef337",
   "metadata": {},
   "outputs": [],
   "source": [
    "a = temp[[2,3,4]]"
   ]
  },
  {
   "cell_type": "code",
   "execution_count": 33,
   "id": "d29e6c15-154d-4de7-a379-a30180b02a3a",
   "metadata": {},
   "outputs": [
    {
     "data": {
      "text/html": [
       "<div>\n",
       "<style scoped>\n",
       "    .dataframe tbody tr th:only-of-type {\n",
       "        vertical-align: middle;\n",
       "    }\n",
       "\n",
       "    .dataframe tbody tr th {\n",
       "        vertical-align: top;\n",
       "    }\n",
       "\n",
       "    .dataframe thead th {\n",
       "        text-align: right;\n",
       "    }\n",
       "</style>\n",
       "<table border=\"1\" class=\"dataframe\">\n",
       "  <thead>\n",
       "    <tr style=\"text-align: right;\">\n",
       "      <th></th>\n",
       "      <th>2</th>\n",
       "      <th>3</th>\n",
       "      <th>4</th>\n",
       "    </tr>\n",
       "  </thead>\n",
       "  <tbody>\n",
       "    <tr>\n",
       "      <th>0</th>\n",
       "      <td>b</td>\n",
       "      <td>item</td>\n",
       "      <td>A_1</td>\n",
       "    </tr>\n",
       "    <tr>\n",
       "      <th>2</th>\n",
       "      <td>f</td>\n",
       "      <td>item</td>\n",
       "      <td>B</td>\n",
       "    </tr>\n",
       "    <tr>\n",
       "      <th>3</th>\n",
       "      <td>a</td>\n",
       "      <td>f</td>\n",
       "      <td>G_1</td>\n",
       "    </tr>\n",
       "    <tr>\n",
       "      <th>4</th>\n",
       "      <td>f</td>\n",
       "      <td>a</td>\n",
       "      <td>G</td>\n",
       "    </tr>\n",
       "    <tr>\n",
       "      <th>51</th>\n",
       "      <td>a</td>\n",
       "      <td>e</td>\n",
       "      <td>H_1</td>\n",
       "    </tr>\n",
       "    <tr>\n",
       "      <th>77</th>\n",
       "      <td>f</td>\n",
       "      <td>d</td>\n",
       "      <td>C</td>\n",
       "    </tr>\n",
       "    <tr>\n",
       "      <th>83</th>\n",
       "      <td>f</td>\n",
       "      <td>c</td>\n",
       "      <td>D</td>\n",
       "    </tr>\n",
       "    <tr>\n",
       "      <th>232</th>\n",
       "      <td>c</td>\n",
       "      <td>f</td>\n",
       "      <td>D_1</td>\n",
       "    </tr>\n",
       "    <tr>\n",
       "      <th>288</th>\n",
       "      <td>f</td>\n",
       "      <td>e</td>\n",
       "      <td>F</td>\n",
       "    </tr>\n",
       "    <tr>\n",
       "      <th>312</th>\n",
       "      <td>item</td>\n",
       "      <td>f</td>\n",
       "      <td>B_1</td>\n",
       "    </tr>\n",
       "    <tr>\n",
       "      <th>444</th>\n",
       "      <td>item</td>\n",
       "      <td>b</td>\n",
       "      <td>A</td>\n",
       "    </tr>\n",
       "    <tr>\n",
       "      <th>41434</th>\n",
       "      <td>e</td>\n",
       "      <td>f</td>\n",
       "      <td>F_1</td>\n",
       "    </tr>\n",
       "    <tr>\n",
       "      <th>41448</th>\n",
       "      <td>e</td>\n",
       "      <td>a</td>\n",
       "      <td>H</td>\n",
       "    </tr>\n",
       "    <tr>\n",
       "      <th>41831</th>\n",
       "      <td>d</td>\n",
       "      <td>f</td>\n",
       "      <td>C_1</td>\n",
       "    </tr>\n",
       "  </tbody>\n",
       "</table>\n",
       "</div>"
      ],
      "text/plain": [
       "          2     3    4\n",
       "0         b  item  A_1\n",
       "2         f  item    B\n",
       "3         a     f  G_1\n",
       "4         f     a    G\n",
       "51        a     e  H_1\n",
       "77        f     d    C\n",
       "83        f     c    D\n",
       "232       c     f  D_1\n",
       "288       f     e    F\n",
       "312    item     f  B_1\n",
       "444    item     b    A\n",
       "41434     e     f  F_1\n",
       "41448     e     a    H\n",
       "41831     d     f  C_1"
      ]
     },
     "execution_count": 33,
     "metadata": {},
     "output_type": "execute_result"
    }
   ],
   "source": [
    "a.drop_duplicates()"
   ]
  },
  {
   "cell_type": "code",
   "execution_count": null,
   "id": "80abc41a-3b60-468f-a142-bdad83721162",
   "metadata": {},
   "outputs": [],
   "source": []
  }
 ],
 "metadata": {
  "kernelspec": {
   "display_name": "base",
   "language": "python",
   "name": "base"
  },
  "language_info": {
   "codemirror_mode": {
    "name": "ipython",
    "version": 3
   },
   "file_extension": ".py",
   "mimetype": "text/x-python",
   "name": "python",
   "nbconvert_exporter": "python",
   "pygments_lexer": "ipython3",
   "version": "3.9.7"
  }
 },
 "nbformat": 4,
 "nbformat_minor": 5
}
